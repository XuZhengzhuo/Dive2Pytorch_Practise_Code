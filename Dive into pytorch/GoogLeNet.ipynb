{
 "cells": [
  {
   "cell_type": "code",
   "execution_count": 1,
   "metadata": {},
   "outputs": [],
   "source": [
    "import torch\n",
    "import time\n",
    "from torch import nn, optim\n",
    "import torch.nn.functional as F\n",
    "import sys\n",
    "sys.path.append(\"..\")\n",
    "from util import d2lzh_pytorch as d2l\n",
    "device = torch.device('cuda' if torch.cuda.is_available() else 'cpu')"
   ]
  },
  {
   "cell_type": "code",
   "execution_count": 2,
   "metadata": {},
   "outputs": [],
   "source": [
    "class Inception(nn.Module):\n",
    "    def __init__(self, in_c, c1, c2, c3, c4):\n",
    "        super(Inception,self).__init__()\n",
    "        self.p1_1 = nn.Conv2d(in_c,c1,kernel_size=1)\n",
    "        self.p2_1 = nn.Conv2d(in_c,c2[0],kernel_size=1)\n",
    "        self.p2_2 = nn.Conv2d(c2[0],c2[1],kernel_size=3,padding=1)\n",
    "        self.p3_1 = nn.Conv2d(in_c,c3[0],kernel_size=1)\n",
    "        self.p3_2 = nn.Conv2d(c3[0],c3[1],kernel_size=5,padding=2)\n",
    "        self.p4_1 = nn.MaxPool2d(kernel_size=3,stride=1,padding=1)\n",
    "        self.p4_2 = nn.Conv2d(in_c,c4,kernel_size=1)\n",
    "    def forward(self,x):\n",
    "        x1 = F.relu(self.p1_1(x))\n",
    "        x2 = F.relu(self.p2_2(F.relu(self.p2_1(x))))\n",
    "        x3 = F.relu(self.p3_2(F.relu(self.p3_1(x))))\n",
    "        x4 = F.relu(self.p4_2(self.p4_1(x)))\n",
    "        return torch.cat((x1,x2,x3,x4), dim=1)"
   ]
  },
  {
   "cell_type": "code",
   "execution_count": 3,
   "metadata": {},
   "outputs": [],
   "source": [
    "b1 = nn.Sequential(nn.Conv2d(1,64,kernel_size=7,stride=2,padding=3),\n",
    "                    nn.ReLU(),\n",
    "                    nn.MaxPool2d(kernel_size=3,stride=2,padding=1))\n",
    "b2 = nn.Sequential(nn.Conv2d(64,64,kernel_size=1),\n",
    "                    nn.Conv2d(64,192,kernel_size=3,padding=1),\n",
    "                    nn.MaxPool2d(kernel_size=3,stride=2,padding=1))\n",
    "b3 = nn.Sequential(Inception(192, 64, (96, 128), (16, 32), 32),\n",
    "                    Inception(256, 128, (128, 192), (32, 96), 64),\n",
    "                    nn.MaxPool2d(kernel_size=3, stride=2, padding=1))\n",
    "b4 = nn.Sequential(Inception(480, 192, (96, 208), (16, 48), 64),\n",
    "                    Inception(512, 160, (112, 224), (24, 64), 64),\n",
    "                    Inception(512, 128, (128, 256), (24, 64), 64),\n",
    "                    Inception(512, 112, (144, 288), (32, 64), 64),\n",
    "                    Inception(528, 256, (160, 320), (32, 128), 128),\n",
    "                    nn.MaxPool2d(kernel_size=3, stride=2, padding=1))\n",
    "b5 = nn.Sequential(Inception(832, 256, (160, 320), (32, 128), 128),\n",
    "                    Inception(832, 384, (192, 384), (48, 128), 128),\n",
    "                    d2l.GlobalAvgPool2d())\n",
    "net = nn.Sequential(b1, b2, b3, b4, b5, d2l.FlattenLayer(), nn.Linear(1024, 10))"
   ]
  },
  {
   "cell_type": "code",
   "execution_count": 4,
   "metadata": {
    "tags": []
   },
   "outputs": [
    {
     "output_type": "stream",
     "name": "stdout",
     "text": "output shape:  torch.Size([1, 64, 24, 24])\noutput shape:  torch.Size([1, 192, 12, 12])\noutput shape:  torch.Size([1, 480, 6, 6])\noutput shape:  torch.Size([1, 832, 3, 3])\noutput shape:  torch.Size([1, 1024, 1, 1])\noutput shape:  torch.Size([1, 1024])\noutput shape:  torch.Size([1, 10])\n"
    }
   ],
   "source": [
    "X = torch.rand(1, 1, 96, 96)\n",
    "for blk in net.children():\n",
    "    X = blk(X)\n",
    "    print('output shape: ', X.shape)"
   ]
  },
  {
   "cell_type": "code",
   "execution_count": 5,
   "metadata": {
    "tags": []
   },
   "outputs": [
    {
     "output_type": "stream",
     "name": "stdout",
     "text": "OK\nC:\\Users\\Administrator\\AppData\\Roaming\\SPB_16.6\\Datasets\\FashionMNIST\\FashionMNIST\\processed\\training.pt\nOK\nC:\\Users\\Administrator\\AppData\\Roaming\\SPB_16.6\\Datasets\\FashionMNIST\\FashionMNIST\\processed\\training.pt\nOK\nC:\\Users\\Administrator\\AppData\\Roaming\\SPB_16.6\\Datasets\\FashionMNIST\\FashionMNIST\\processed\\training.pt\nOK\nC:\\Users\\Administrator\\AppData\\Roaming\\SPB_16.6\\Datasets\\FashionMNIST\\FashionMNIST\\processed\\training.pt\ntraining on  cuda\nepoch 1, loss 1.1570, train acc 0.547, test acc 0.802, time 432.3 sec\nepoch 2, loss 0.2160, train acc 0.841, test acc 0.857, time 475.7 sec\n"
    }
   ],
   "source": [
    "batch_size = 128\n",
    "train_iter, test_iter = d2l.load_data_fashion_mnist(batch_size, resize=96)\n",
    "lr, num_epochs = 0.001, 2\n",
    "optimizer = torch.optim.Adam(net.parameters(), lr=lr)\n",
    "d2l.train_ch5(net, train_iter, test_iter, batch_size, optimizer, device, num_epochs)"
   ]
  },
  {
   "cell_type": "code",
   "execution_count": null,
   "metadata": {},
   "outputs": [],
   "source": []
  },
  {
   "cell_type": "code",
   "execution_count": null,
   "metadata": {},
   "outputs": [],
   "source": []
  }
 ],
 "metadata": {
  "language_info": {
   "codemirror_mode": {
    "name": "ipython",
    "version": 3
   },
   "file_extension": ".py",
   "mimetype": "text/x-python",
   "name": "python",
   "nbconvert_exporter": "python",
   "pygments_lexer": "ipython3",
   "version": "3.7.7-final"
  },
  "orig_nbformat": 2,
  "kernelspec": {
   "name": "python37764bittorchconda489fd9cb24f442bbb1adb0bcf5a335fa",
   "display_name": "Python 3.7.7 64-bit ('torch': conda)"
  }
 },
 "nbformat": 4,
 "nbformat_minor": 2
}