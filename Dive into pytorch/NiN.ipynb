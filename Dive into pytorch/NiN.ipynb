{
 "cells": [
  {
   "cell_type": "code",
   "execution_count": 1,
   "metadata": {},
   "outputs": [],
   "source": [
    "import time\n",
    "import torch\n",
    "from torch import nn, optim\n",
    "import sys\n",
    "sys.path.append(\"..\")\n",
    "from util import d2lzh_pytorch as d2l\n",
    "device = torch.device('cuda' if torch.cuda.is_available() else 'cpu')"
   ]
  },
  {
   "cell_type": "code",
   "execution_count": 2,
   "metadata": {},
   "outputs": [],
   "source": [
    "def nin_block(in_channels, out_channels, kernel_size, stride, padding):\n",
    "    blk = nn.Sequential(nn.Conv2d(in_channels, out_channels, kernel_size, stride, padding),\n",
    "                        nn.ReLU(),\n",
    "                        nn.Conv2d(out_channels, out_channels, kernel_size=1),\n",
    "                        nn.ReLU(),\n",
    "                        nn.Conv2d(out_channels, out_channels, kernel_size=1),\n",
    "                        nn.ReLU())\n",
    "    return blk "
   ]
  },
  {
   "cell_type": "code",
   "execution_count": 3,
   "metadata": {
    "tags": []
   },
   "outputs": [
    {
     "output_type": "stream",
     "name": "stdout",
     "text": "Sequential(\n  (0): Sequential(\n    (0): Conv2d(1, 96, kernel_size=(11, 11), stride=(4, 4))\n    (1): ReLU()\n    (2): Conv2d(96, 96, kernel_size=(1, 1), stride=(1, 1))\n    (3): ReLU()\n    (4): Conv2d(96, 96, kernel_size=(1, 1), stride=(1, 1))\n    (5): ReLU()\n  )\n  (1): MaxPool2d(kernel_size=3, stride=2, padding=0, dilation=1, ceil_mode=False)\n  (2): Sequential(\n    (0): Conv2d(96, 256, kernel_size=(5, 5), stride=(1, 1), padding=(2, 2))\n    (1): ReLU()\n    (2): Conv2d(256, 256, kernel_size=(1, 1), stride=(1, 1))\n    (3): ReLU()\n    (4): Conv2d(256, 256, kernel_size=(1, 1), stride=(1, 1))\n    (5): ReLU()\n  )\n  (3): MaxPool2d(kernel_size=3, stride=2, padding=0, dilation=1, ceil_mode=False)\n  (4): Sequential(\n    (0): Conv2d(256, 384, kernel_size=(3, 3), stride=(1, 1), padding=(1, 1))\n    (1): ReLU()\n    (2): Conv2d(384, 384, kernel_size=(1, 1), stride=(1, 1))\n    (3): ReLU()\n    (4): Conv2d(384, 384, kernel_size=(1, 1), stride=(1, 1))\n    (5): ReLU()\n  )\n  (5): MaxPool2d(kernel_size=3, stride=2, padding=0, dilation=1, ceil_mode=False)\n  (6): Dropout(p=0.5)\n  (7): Sequential(\n    (0): Conv2d(384, 10, kernel_size=(3, 3), stride=(1, 1), padding=(1, 1))\n    (1): ReLU()\n    (2): Conv2d(10, 10, kernel_size=(1, 1), stride=(1, 1))\n    (3): ReLU()\n    (4): Conv2d(10, 10, kernel_size=(1, 1), stride=(1, 1))\n    (5): ReLU()\n  )\n  (8): GlobalAvgPool2d()\n  (9): FlattenLayer()\n)\n"
    }
   ],
   "source": [
    "net = nn.Sequential(\n",
    "    nin_block(1,96,kernel_size=11,stride=4,padding=0),\n",
    "    nn.MaxPool2d(kernel_size=3,stride=2),\n",
    "    nin_block(96,256,kernel_size=5,stride=1,padding=2),\n",
    "    nn.MaxPool2d(kernel_size=3,stride=2),\n",
    "    nin_block(256,384,kernel_size=3,stride=1,padding=1),\n",
    "    nn.MaxPool2d(kernel_size=3,stride=2),\n",
    "    nn.Dropout(0.5),\n",
    "    nin_block(384,10,kernel_size=3,stride=1,padding=1),\n",
    "    d2l.GlobalAvgPool2d(),\n",
    "    d2l.FlattenLayer())\n",
    "print(net)"
   ]
  },
  {
   "cell_type": "code",
   "execution_count": 4,
   "metadata": {
    "tags": []
   },
   "outputs": [
    {
     "output_type": "stream",
     "name": "stdout",
     "text": "0 output shape: torch.Size([1, 96, 54, 54])\n1 output shape: torch.Size([1, 96, 26, 26])\n2 output shape: torch.Size([1, 256, 26, 26])\n3 output shape: torch.Size([1, 256, 12, 12])\n4 output shape: torch.Size([1, 384, 12, 12])\n5 output shape: torch.Size([1, 384, 5, 5])\n6 output shape: torch.Size([1, 384, 5, 5])\n7 output shape: torch.Size([1, 10, 5, 5])\n8 output shape: torch.Size([1, 10, 1, 1])\n9 output shape: torch.Size([1, 10])\n"
    }
   ],
   "source": [
    "X = torch.rand(1,1,224,224)\n",
    "for name, blk in net.named_children():\n",
    "    X = blk(X)\n",
    "    print(name,'output shape:', X.shape)"
   ]
  },
  {
   "cell_type": "code",
   "execution_count": 5,
   "metadata": {
    "tags": []
   },
   "outputs": [
    {
     "output_type": "stream",
     "name": "stdout",
     "text": "OK\nC:\\Users\\Administrator\\AppData\\Roaming\\SPB_16.6\\Datasets\\FashionMNIST\\FashionMNIST\\processed\\training.pt\nOK\nC:\\Users\\Administrator\\AppData\\Roaming\\SPB_16.6\\Datasets\\FashionMNIST\\FashionMNIST\\processed\\training.pt\nOK\nC:\\Users\\Administrator\\AppData\\Roaming\\SPB_16.6\\Datasets\\FashionMNIST\\FashionMNIST\\processed\\training.pt\nOK\nC:\\Users\\Administrator\\AppData\\Roaming\\SPB_16.6\\Datasets\\FashionMNIST\\FashionMNIST\\processed\\training.pt\ntraining on  cuda\nepoch 1, loss 1.0575, train acc 0.601, test acc 0.754, time 629.2 sec\nepoch 2, loss 0.2922, train acc 0.786, test acc 0.804, time 662.4 sec\n"
    }
   ],
   "source": [
    "batch_size = 64\n",
    "train_iter, test_iter = d2l.load_data_fashion_mnist(batch_size=batch_size,resize=224)\n",
    "lr, num_epoch = 0.002, 2\n",
    "optimizer = torch.optim.Adam(net.parameters(),lr=lr)\n",
    "d2l.train_ch5(net,train_iter,test_iter,batch_size,optimizer,device,num_epoch)"
   ]
  },
  {
   "cell_type": "markdown",
   "metadata": {},
   "source": [
    "只训练2个epoch吧，实在不够"
   ]
  }
 ],
 "metadata": {
  "kernelspec": {
   "display_name": "Python 3.7.7 64-bit ('torch': conda)",
   "language": "python",
   "name": "python37764bittorchconda489fd9cb24f442bbb1adb0bcf5a335fa"
  },
  "language_info": {
   "codemirror_mode": {
    "name": "ipython",
    "version": 3
   },
   "file_extension": ".py",
   "mimetype": "text/x-python",
   "name": "python",
   "nbconvert_exporter": "python",
   "pygments_lexer": "ipython3",
   "version": "3.7.7-final"
  }
 },
 "nbformat": 4,
 "nbformat_minor": 4
}